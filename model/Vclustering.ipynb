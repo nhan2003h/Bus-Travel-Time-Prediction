{
  "cells": [
    {
      "cell_type": "code",
      "execution_count": null,
      "metadata": {
        "id": "qBbh0l-QT0Ox"
      },
      "outputs": [],
      "source": [
        "#import modules\n",
        "import pandas as pd\n",
        "import numpy as np\n",
        "import matplotlib.pyplot as plt\n",
        "import math\n",
        "import matplotlib.pyplot as plt\n",
        "from datetime import datetime, timedelta\n",
        "import time"
      ]
    },
    {
      "cell_type": "code",
      "execution_count": null,
      "metadata": {
        "id": "eq1en3CQ_95A"
      },
      "outputs": [],
      "source": [
        "MIN_RECORD = 10\n",
        "MAX_SEGMENT = 5"
      ]
    },
    {
      "cell_type": "code",
      "execution_count": null,
      "metadata": {
        "id": "Td5OPf4_Gz2f"
      },
      "outputs": [],
      "source": [
        "#function v-clustering\n",
        "def v_clustering(L, threshold):\n",
        "    def WAV(L1, L2):\n",
        "        n = len(L)\n",
        "        return (len(L1) / n) * np.var(L1) + (len(L2) / n) * np.var(L2)\n",
        "\n",
        "    def delta_V(L, i):\n",
        "        L1 = L[:i]\n",
        "        L2 = L[i:]\n",
        "        return np.var(L) - WAV(L1, L2)\n",
        "\n",
        "    def find_best_split(L):\n",
        "        max_delta_V = -1\n",
        "        best_split_index = None\n",
        "\n",
        "        for i in range(1, len(L)):\n",
        "            delta_v = delta_V(L, i)\n",
        "\n",
        "            if delta_v > max_delta_V:\n",
        "                max_delta_V = delta_v\n",
        "                best_split_index = i\n",
        "\n",
        "        return best_split_index\n",
        "\n",
        "    split_index = find_best_split(L)\n",
        "\n",
        "    if split_index is None:\n",
        "        return [L]\n",
        "\n",
        "    L1 = L[:split_index]\n",
        "    L2 = L[split_index:]\n",
        "    if delta_V(L, split_index) < threshold :\n",
        "        return [L]\n",
        "    return v_clustering(L1, threshold) + v_clustering(L2, threshold)"
      ]
    },
    {
      "cell_type": "code",
      "execution_count": null,
      "metadata": {
        "id": "NnjPW1u0UVYC"
      },
      "outputs": [],
      "source": [
        "def Label_cluster(current_segment, clusters, sort_term):\n",
        "  result_df = pd.DataFrame(columns=['Value', 'Cluster'])\n",
        "  for i, sub_array in enumerate(clusters):\n",
        "      label = i + 1\n",
        "      for element in sub_array:\n",
        "          result_df = pd.concat([result_df, pd.DataFrame({'Value': [element], 'Cluster': [label]})], ignore_index=True)\n",
        "  current_segment = current_segment.sort_values(by=[sort_term])\n",
        "  if (len(current_segment) == len(result_df)):\n",
        "    for i in range(len(current_segment)):\n",
        "      current_segment['Cluster label'] = result_df['Cluster'].tolist()\n",
        "  return current_segment"
      ]
    },
    {
      "cell_type": "code",
      "execution_count": null,
      "metadata": {
        "id": "9CMeevElKGaK"
      },
      "outputs": [],
      "source": [
        "def cluster(SEGMENT_ID, DAY_OF_WEEK, ARRIVAL_TIME, DURATION, time_added, TRIP_ID):\n",
        "  #Read data\n",
        "  if SEGMENT_ID <= 15:\n",
        "    data_name = \"../dataset/1_Kandy_to_Digana.csv\"\n",
        "  else:\n",
        "    data_name = \"../dataset/2_Digana_to_Kandy.csv\"\n",
        "  input_data = pd.read_csv(data_name)\n",
        "  df = input_data.copy()\n",
        "  df = pd.DataFrame(df)\n",
        "\n",
        "  #Filter by SEGMENT_ID and Day_of_week\n",
        "  data = df[df['segment'] == SEGMENT_ID]\n",
        "  data = data[data['day_of_week'] == DAY_OF_WEEK]\n",
        "\n",
        "  #Reset index\n",
        "  data = data.reset_index()\n",
        "  data.drop(columns=[\"index\"],inplace=True)\n",
        "  current_segment = data.copy()\n",
        "\n",
        "  #drop unnecessary columns\n",
        "  data.drop(columns=[\"trip_id\", \"segment\", \"duration\", \"date\", \"end_time\", \"without_dwell_time\", \"avg_speed\", \"day_of_week\"],inplace=True)\n",
        "\n",
        "  #Normalize dataset\n",
        "  for i in range(len(data)):\n",
        "    string = data.loc[i, 'start_time']\n",
        "    data.loc[i, 'start_time'] = float(string[0:2]) * 3600 + float(string[3:5]) * 60 + float(string[6:8])\n",
        "\n",
        "  #Obtain array of values\n",
        "  data_array=data.values\n",
        "\n",
        "  #Specify data types\n",
        "  data_array[:, 0:1] = data_array[:, 0:1].astype(float)\n",
        "  data_array = data_array.tolist()\n",
        "\n",
        "  #Transform clusters\n",
        "  cluster_list = []\n",
        "  for row in data_array:\n",
        "    cluster_list.append(row[0])\n",
        "\n",
        "  # Clustering for start_time\n",
        "  actual_times = sorted(cluster_list)\n",
        "  threshold = 100000\n",
        "  clusters = v_clustering(actual_times, threshold)\n",
        "\n",
        "\n",
        "  #Label clusters for original dataset\n",
        "  current_segment = Label_cluster(current_segment, clusters, 'start_time')\n",
        "\n",
        "  #Input processing\n",
        "  ARRIVAL_TIME = datetime.strptime(ARRIVAL_TIME, '%H:%M:%S').time()\n",
        "  seconds = (ARRIVAL_TIME.hour * 60 + ARRIVAL_TIME.minute) * 60 + ARRIVAL_TIME.second\n",
        "  seconds += time_added\n",
        "  #Determine belonged cluster\n",
        "  center_list = []\n",
        "  for element in clusters:\n",
        "    center_list.append(np.mean(element))\n",
        "  arr = np.array(center_list)\n",
        "  difference_array = np.absolute(arr - seconds)\n",
        "  index = difference_array.argmin() + 1\n",
        "\n",
        "  #Extract trips\n",
        "  trip_list = current_segment[current_segment['Cluster label'] == index]\n",
        "  trip_list = trip_list['trip_id'].tolist()\n",
        "\n",
        "  CUR_SEG = SEGMENT_ID - 1\n",
        "  while (len(trip_list) >= MIN_RECORD and CUR_SEG > 0 and SEGMENT_ID - CUR_SEG < 5):\n",
        "    #Filter by SEGMENT_ID and Day_of_week\n",
        "    data = df[df['segment'] == CUR_SEG]\n",
        "    data = data[data['day_of_week'] == DAY_OF_WEEK]\n",
        "    data = data[data['trip_id'].isin(trip_list)]\n",
        "\n",
        "    #Reset index\n",
        "    data = data.reset_index()\n",
        "    data.drop(columns=[\"index\"],inplace=True)\n",
        "\n",
        "    #drop unnecessary columns\n",
        "    current_segment = data.copy()\n",
        "    data.drop(columns=[\"trip_id\", \"segment\", \"start_time\", \"date\", \"end_time\", \"without_dwell_time\", \"avg_speed\", \"day_of_week\"],inplace=True)\n",
        "\n",
        "    #obtain array of values\n",
        "    data_array=data.values\n",
        "\n",
        "    #specify data types\n",
        "    data_array[:, 0:1] = data_array[:, 0:1].astype(float)\n",
        "    data_array = data_array.tolist()\n",
        "    cluster_list = []\n",
        "    for row in data_array:\n",
        "      cluster_list.append(row[0])\n",
        "\n",
        "    # Clustering for duration\n",
        "    actual_times = cluster_list\n",
        "    actual_times = sorted(actual_times)\n",
        "    threshold = np.var(actual_times)*0.5\n",
        "    clusters = v_clustering(actual_times, threshold)\n",
        "\n",
        "    #Label clusters for original dataset\n",
        "    current_segment = Label_cluster(current_segment, clusters, 'duration')\n",
        "\n",
        "    #Passed Segment Duration\n",
        "    duration = DURATION[CUR_SEG - 1]\n",
        "\n",
        "    #Determine belonged cluster\n",
        "    center_list = []\n",
        "    for element in clusters:\n",
        "      center_list.append(np.mean(element))\n",
        "    arr = np.array(center_list)\n",
        "    difference_array = np.absolute(arr - duration)\n",
        "    index = difference_array.argmin() + 1\n",
        "\n",
        "    #Extract trip\n",
        "    if len(current_segment[current_segment['Cluster label'] == index]) > 1:\n",
        "      trip_list = current_segment[current_segment['Cluster label'] == index]\n",
        "      trip_list = trip_list['trip_id'].tolist()\n",
        "    else:\n",
        "      break\n",
        "    CUR_SEG = CUR_SEG - 1\n",
        "  data = df[df['segment'] == SEGMENT_ID]\n",
        "  data = data[data['day_of_week'] == DAY_OF_WEEK]\n",
        "  output = data[data['trip_id'].isin(trip_list)]\n",
        "  temp_df = df[df['trip_id'] == TRIP_ID]\n",
        "  real_duration = temp_df[temp_df['segment'] == SEGMENT_ID].reset_index().loc[0, 'duration']\n",
        "  output = output[~output['trip_id'].isin([TRIP_ID])]\n",
        "  return [real_duration, np.mean(output['duration'])]"
      ]
    },
    {
      "cell_type": "code",
      "execution_count": null,
      "metadata": {
        "id": "a_hDfWfkyxtS"
      },
      "outputs": [],
      "source": [
        "def trip_prediction(TRIP_ID, SEGMENT_ID):\n",
        "  #Define trip\n",
        "  dataset = pd.read_csv(\"../dataset/1_Kandy_to_Digana.csv\")\n",
        "  dataset = pd.DataFrame(dataset)\n",
        "  trip = dataset[dataset['trip_id'] == TRIP_ID].reset_index()\n",
        "  trip\n",
        "  #Input data\n",
        "  DAY_OF_WEEK = trip.loc[0, 'day_of_week']\n",
        "  ARRIVAL_TIME = trip.loc[SEGMENT_ID - 1, 'start_time']\n",
        "  #Supposed segment duration\n",
        "  DURATION = []\n",
        "  for i in range(1, SEGMENT_ID):\n",
        "    DURATION.append(trip.loc[i - 1, 'duration'])\n",
        "\n",
        "  #Prediction\n",
        "  error = []\n",
        "  time_added = 0\n",
        "  while (SEGMENT_ID <= 15):\n",
        "    result = cluster(SEGMENT_ID, DAY_OF_WEEK, ARRIVAL_TIME, DURATION, time_added, TRIP_ID)\n",
        "    DURATION.append(np.round(result[1], 2))\n",
        "    error.append(np.round(np.absolute(result[1]- result[0]), 2))\n",
        "    SEGMENT_ID = SEGMENT_ID + 1\n",
        "    time_added += result[1]\n",
        "\n",
        "\n",
        "  #Evaluate result\n",
        "  RMSE = 0\n",
        "  for i in range(len(error)):\n",
        "    RMSE += error[i]**2\n",
        "  RMSE = np.sqrt(RMSE/len(error))\n",
        "\n",
        "  #Result\n",
        "  print(\"ERROR: \", error)\n",
        "  print(\"DURATION: \", DURATION)\n",
        "  print(\"Trip id: \", TRIP_ID)\n",
        "  print(\"RMSE: \", np.round(RMSE, 2))\n",
        "  print(\"Real total duration: \",np.sum(trip['duration']))\n",
        "  print(\"Predicted total duration: \",np.round(np.sum(DURATION),2))\n",
        "  print(\"Different: \", np.round(np.abs(np.sum(DURATION) - np.sum(trip['duration'])),2 ))\n",
        "  return [np.round(RMSE, 2), np.round(np.abs(np.sum(DURATION) - np.sum(trip['duration'])),2 ), error, DURATION]"
      ]
    },
    {
      "cell_type": "code",
      "execution_count": null,
      "metadata": {
        "id": "yMytoEa88fmk"
      },
      "outputs": [],
      "source": [
        "df = pd.read_csv(\"../dataset/1_Kandy_to_Digana.csv\")\n",
        "RMSE_list = []\n",
        "Diff_list = []\n",
        "count = 0\n",
        "for i in df['trip_id'].unique():\n",
        "  if (count == 100):\n",
        "    break\n",
        "  count += 1\n",
        "  result = trip_prediction(i, 10)\n",
        "  RMSE_list.append(result[0])\n",
        "  Diff_list.append(result[1])"
      ]
    },
    {
      "cell_type": "code",
      "execution_count": null,
      "metadata": {
        "id": "M6zfBitU82uy"
      },
      "outputs": [],
      "source": [
        "x = []\n",
        "count = 0\n",
        "for i in df['trip_id'].unique():\n",
        "  if (count == 100):\n",
        "    break\n",
        "  count += 1\n",
        "  x.append(i)"
      ]
    },
    {
      "cell_type": "code",
      "execution_count": null,
      "metadata": {
        "colab": {
          "base_uri": "https://localhost:8080/",
          "height": 489
        },
        "id": "-oJerNni7rEt",
        "outputId": "2a7584e9-23da-4341-8c38-bff8384fc610"
      },
      "outputs": [],
      "source": [
        "plt.plot(x, RMSE_list, color='red', linewidth=2)\n",
        "plt.xlabel('TRIP_ID')\n",
        "plt.ylabel('RMSE')\n",
        "plt.title('RMSE Result')\n",
        "\n",
        "# Add the grid\n",
        "plt.grid(True)\n",
        "\n",
        "# Show the plot\n",
        "plt.show()\n",
        "print(\"Average RMSE:\", np.round(np.mean(RMSE_list),2))"
      ]
    },
    {
      "cell_type": "code",
      "execution_count": null,
      "metadata": {
        "colab": {
          "base_uri": "https://localhost:8080/",
          "height": 489
        },
        "id": "Ys_3MXB8mYZx",
        "outputId": "2a84cfe7-4dc9-44a7-afb1-18e8aee90237"
      },
      "outputs": [],
      "source": [
        "plt.plot(x, Diff_list, color='red', linewidth=2)\n",
        "plt.xlabel('TRIP_ID')\n",
        "plt.ylabel('Different')\n",
        "plt.title('Different Result')\n",
        "\n",
        "# Add the grid\n",
        "plt.grid(True)\n",
        "\n",
        "# Show the plot\n",
        "plt.show()\n",
        "print(\"Average Different:\", np.round(np.mean(Diff_list),2))"
      ]
    },
    {
      "cell_type": "code",
      "execution_count": null,
      "metadata": {
        "colab": {
          "base_uri": "https://localhost:8080/",
          "height": 17
        },
        "id": "c1p_ImDdEyxZ",
        "outputId": "24fbe3ee-f501-42dd-bbcf-51dd60536044"
      },
      "outputs": [],
      "source": [
        "from google.colab import files\n",
        "filename = \"seg10_dir1_100trip.csv\"\n",
        "df = pd.DataFrame(list(zip(x, RMSE_list, Diff_list)),\n",
        "               columns =['TRIP_ID', 'RMSE', 'DIFFERENT'])\n",
        "df.to_csv(filename, encoding = 'utf-8-sig')\n",
        "files.download(filename)"
      ]
    },
    {
      "cell_type": "code",
      "execution_count": null,
      "metadata": {
        "colab": {
          "base_uri": "https://localhost:8080/"
        },
        "id": "7hMnr93AWu5E",
        "outputId": "e4a4f2dd-d63e-4d54-927f-3f1c0bd4ebd0"
      },
      "outputs": [],
      "source": [
        "result = trip_prediction(32 ,1)"
      ]
    },
    {
      "cell_type": "code",
      "execution_count": null,
      "metadata": {
        "colab": {
          "base_uri": "https://localhost:8080/",
          "height": 800
        },
        "id": "32sWBfZ_Wdk9",
        "outputId": "f9cf349d-75d3-4d69-e03a-d79c58126e1b"
      },
      "outputs": [],
      "source": [
        "dataset = pd.read_csv(\"../dataset/1_Kandy_to_Digana.csv\")\n",
        "dataset = pd.DataFrame(dataset)\n",
        "trip = dataset[dataset['trip_id'] == 181].reset_index()\n",
        "trip['prediction'] = result[3]\n",
        "trip['error'] = result[2]\n",
        "trip"
      ]
    },
    {
      "cell_type": "code",
      "execution_count": null,
      "metadata": {
        "colab": {
          "base_uri": "https://localhost:8080/"
        },
        "id": "zBiyuGGueMCJ",
        "outputId": "f5667590-d82c-47fb-ffa4-b1ad8ccc8496"
      },
      "outputs": [],
      "source": [
        "df = pd.read_csv(\"seg1_dir1_100trip.csv\")\n",
        "df = pd.DataFrame(df)\n",
        "df = df[['TRIP_ID', 'DIFFERENT']]\n",
        "df = df[df['DIFFERENT'] < 10]\n",
        "low_dif_trip = df['TRIP_ID'].tolist()\n",
        "\n",
        "\n",
        "df = pd.read_csv(\"seg10_dir1_100trip.csv\")\n",
        "df = pd.DataFrame(df)\n",
        "df = df[['TRIP_ID', 'DIFFERENT']]\n",
        "df = df[df['DIFFERENT'] < 10]\n",
        "low_dif_trip.append(df['TRIP_ID'].tolist())\n",
        "print(low_dif_trip)"
      ]
    },
    {
      "cell_type": "code",
      "execution_count": null,
      "metadata": {
        "colab": {
          "base_uri": "https://localhost:8080/"
        },
        "id": "dOGrUFDYkvsj",
        "outputId": "2d1a80c2-a2ef-493d-c61e-3be07009512d"
      },
      "outputs": [],
      "source": [
        "result = trip_prediction(312 , 1)"
      ]
    },
    {
      "cell_type": "code",
      "execution_count": null,
      "metadata": {
        "colab": {
          "base_uri": "https://localhost:8080/",
          "height": 519
        },
        "id": "mv4-Tip8kxjW",
        "outputId": "5e8459e9-f794-46ea-db96-7528ab278c8a"
      },
      "outputs": [],
      "source": [
        "dataset = pd.read_csv(\"../dataset/1_Kandy_to_Digana.csv\")\n",
        "dataset = pd.DataFrame(dataset)\n",
        "trip = dataset[dataset['trip_id'] == 312].reset_index()\n",
        "trip['prediction'] = result[3]\n",
        "trip['error'] = result[2]\n",
        "trip = trip[['trip_id', 'segment', 'duration', 'prediction', 'error']]\n",
        "trip"
      ]
    },
    {
      "cell_type": "code",
      "execution_count": null,
      "metadata": {
        "colab": {
          "base_uri": "https://localhost:8080/"
        },
        "id": "pXpueO6eRzxv",
        "outputId": "2a090a83-e09f-462f-da28-75a711ef8186"
      },
      "outputs": [],
      "source": [
        "df = pd.read_csv(\"bus_trips_654.csv\")\n",
        "df = pd.DataFrame(df)\n",
        "df = df[(df['direction'] == 1) & (df['duration_in_mins'] > 70)]\n",
        "df = df.sort_values(by='duration_in_mins', ascending=False)\n",
        "long_trip = df['trip_id'].tolist()\n",
        "df = pd.read_csv(\"../dataset/1_Kandy_to_Digana.csv\")\n",
        "df = pd.DataFrame(df)\n",
        "RMSE_list = []\n",
        "Diff_list = []\n",
        "x = []\n",
        "for i in long_trip:\n",
        "    if (i in df['trip_id'].unique()):\n",
        "      result = trip_prediction(i, 10)\n",
        "      x.append(i)\n",
        "      RMSE_list.append(result[0])\n",
        "      Diff_list.append(result[1])"
      ]
    },
    {
      "cell_type": "code",
      "execution_count": null,
      "metadata": {
        "colab": {
          "base_uri": "https://localhost:8080/",
          "height": 442
        },
        "id": "X1NbKIQUAWqe",
        "outputId": "ed71766f-9717-43ca-d51f-77fb9605082e"
      },
      "outputs": [],
      "source": [
        "trip_prediction(31, 1)"
      ]
    }
  ],
  "metadata": {
    "colab": {
      "provenance": []
    },
    "kernelspec": {
      "display_name": "Python 3",
      "name": "python3"
    },
    "language_info": {
      "codemirror_mode": {
        "name": "ipython",
        "version": 3
      },
      "file_extension": ".py",
      "mimetype": "text/x-python",
      "name": "python",
      "nbconvert_exporter": "python",
      "pygments_lexer": "ipython3",
      "version": "3.10.13"
    }
  },
  "nbformat": 4,
  "nbformat_minor": 0
}
